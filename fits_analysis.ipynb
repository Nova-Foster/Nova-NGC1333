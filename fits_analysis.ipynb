{
 "cells": [
  {
   "cell_type": "code",
   "execution_count": null,
   "metadata": {},
   "outputs": [],
   "source": [
    "%matplotlib widget\n",
    "import numpy as np\n",
    "#import aplpy as apl\n",
    "#import matplotlib.colors as col\n",
    "import matplotlib.pyplot as plt\n",
    "import spectral_cube as sc\n",
    "#from matplotlib.colorbar import ColorbarBase\n",
    "from astropy.wcs import WCS\n",
    "from astropy.io import fits\n",
    "import time"
   ]
  },
  {
   "cell_type": "code",
   "execution_count": null,
   "metadata": {},
   "outputs": [],
   "source": [
    "species = '13CO'\n",
    "current_vel_file = fits.open(f'V_decomp\\\\C18O\\\\{species}_Fit_Velocity.10chan.cube.fits')\n",
    "current_vel_first_fit = current_vel_file[0].data[0,:,:]\n",
    "current_vel_second_fit = current_vel_file[0].data[1,:,:]"
   ]
  },
  {
   "cell_type": "code",
   "execution_count": null,
   "metadata": {},
   "outputs": [],
   "source": [
    "plt.figure(figsize=(12,8))\n",
    "plt.subplot(121)\n",
    "plt.imshow(current_vel_first_fit,origin='lower')\n",
    "plt.colorbar()\n",
    "plt.subplot(122)\n",
    "plt.imshow(current_vel_second_fit,origin='lower',vmin=7,vmax=9)\n",
    "plt.colorbar()"
   ]
  },
  {
   "cell_type": "code",
   "execution_count": null,
   "metadata": {},
   "outputs": [],
   "source": [
    "vel_fit_shape = np.shape(current_vel_first_fit)\n",
    "l_comp = np.ones(vel_fit_shape) * np.nan\n",
    "d_comp = np.ones(vel_fit_shape) * np.nan\n",
    "single_fit_mask = np.zeros(vel_fit_shape,dtype=bool)\n",
    "print(vel_fit_shape)\n",
    "for i in range(vel_fit_shape[0]):\n",
    "    for j in range(vel_fit_shape[1]):\n",
    "        current_first_fit = current_vel_first_fit[i,j]\n",
    "        current_second_fit = current_vel_second_fit[i,j]\n",
    "        \n",
    "        if np.isnan(current_first_fit):\n",
    "            continue\n",
    "        elif np.isnan(current_second_fit):\n",
    "            d_comp[i,j] = current_first_fit\n",
    "            single_fit_mask[i,j] = True\n",
    "        elif current_first_fit >= current_second_fit:\n",
    "            d_comp[i,j] = current_first_fit\n",
    "            l_comp[i,j] = current_second_fit\n",
    "        elif current_first_fit <= current_second_fit:\n",
    "            d_comp[i,j] = current_second_fit\n",
    "            l_comp[i,j] = current_first_fit\n",
    "            \n",
    "            \n",
    "multiple_fit_mask = np.logical_not(single_fit_mask)"
   ]
  },
  {
   "cell_type": "code",
   "execution_count": null,
   "metadata": {},
   "outputs": [],
   "source": [
    "chan_num = '10chan'\n",
    "plt.figure()\n",
    "fit_count = fits.open(f'V_decomp//C18O//{species}_fit_count.{chan_num}.fits')\n",
    "\n",
    "single_fit_vel = np.where(single_fit_mask,current_vel_first_fit,np.nan)\n",
    "\n",
    "\n",
    "plt.imshow(single_fit_vel,origin='lower')\n",
    "plt.colorbar()"
   ]
  },
  {
   "cell_type": "code",
   "execution_count": null,
   "metadata": {},
   "outputs": [],
   "source": [
    "plt.figure(figsize=(16,6))\n",
    "plt.subplot(131)\n",
    "plt.imshow(l_comp,origin='lower')\n",
    "plt.colorbar()\n",
    "plt.subplot(132)\n",
    "plt.imshow(d_comp,origin='lower')\n",
    "plt.colorbar()\n",
    "\n",
    "plt.subplot(133)\n",
    "diff = d_comp-l_comp\n",
    "plt.imshow(diff,origin='lower')\n",
    "plt.colorbar()"
   ]
  },
  {
   "cell_type": "code",
   "execution_count": null,
   "metadata": {},
   "outputs": [],
   "source": [
    "l_comp_multi = np.where(multiple_fit_mask==True,l_comp,np.nan)\n",
    "d_comp_multi = np.where(multiple_fit_mask==True,d_comp,np.nan)\n",
    "\n",
    "plt.figure(figsize=(12,6))\n",
    "plt.subplot(131)\n",
    "plt.imshow(l_comp_multi,origin='lower',vmin=6,vmax=11)\n",
    "plt.colorbar()\n",
    "plt.subplot(132)\n",
    "plt.imshow(d_comp_multi,origin='lower',vmin=6,vmax=11)\n",
    "plt.colorbar()\n",
    "\n",
    "plt.subplot(133)\n",
    "diff = d_comp_multi-l_comp_multi\n",
    "plt.imshow(diff,origin='lower')\n",
    "plt.colorbar()\n",
    "\n",
    "plt.tight_layout()"
   ]
  },
  {
   "cell_type": "code",
   "execution_count": null,
   "metadata": {},
   "outputs": [],
   "source": [
    "'''current_data = current_vel_second_fit - np.nanmean(single_fit_vel.flatten())\n",
    "types = 'vel_second_fit'\n",
    "chan_num = '10_chan.subtracted'\n",
    "new_header = new_header_v_decomp(hdu,1,val_type=\"Velocity\",val_unit=\"km/s\")\n",
    "fits_map = fits.PrimaryHDU(data=current_data,header=new_header)\n",
    "fits_map.writeto(f'V_decomp//C18O//{species}.{types}.{chan_num}.fits',overwrite=True)\n",
    "#new_cube.write(f'V_decomp//C18O//{species}.{types}.{chan_num}.fits',format='fits',overwrite=True)'''"
   ]
  },
  {
   "cell_type": "code",
   "execution_count": null,
   "metadata": {},
   "outputs": [],
   "source": [
    "plt.figure(figsize=(12,6))\n",
    "plt.plot(d_comp.flatten(),l_comp.flatten(),\".\")\n",
    "plt.xlabel('d component')\n",
    "plt.ylabel('l component')\n",
    "plt.show()"
   ]
  },
  {
   "cell_type": "code",
   "execution_count": null,
   "metadata": {},
   "outputs": [],
   "source": [
    "#vel_mask = np.logical_and( np.logical_and(d_comp>=1,d_comp<=13) , np.logical_and(l_comp>=1,l_comp<=13))\n",
    "vel_mask = np.logical_and(l_comp<=4,d_comp<=9)\n",
    "\n",
    "\n",
    "plt.figure(figsize=(12,8))\n",
    "plt.subplot(121)\n",
    "plt.imshow(np.where(vel_mask==True,current_vel_first_fit,0),origin='lower')\n",
    "plt.colorbar()\n",
    "plt.subplot(122)\n",
    "plt.imshow(np.where(vel_mask==False,current_vel_first_fit,0),origin='lower')\n",
    "plt.colorbar()"
   ]
  },
  {
   "cell_type": "code",
   "execution_count": null,
   "metadata": {},
   "outputs": [],
   "source": [
    "from astropy.wcs import wcs\n",
    "model = np.load('V_decomp\\\\C18O\\\\non_summed-model.npy',allow_pickle=True)\n",
    "filename = f\"C:\\\\Users\\\\alexf\\Japan internship\\\\{species}\\\\ngc1333TP.{species}.cube.valueK.fits\"\n",
    "hdu = fits.open(filename)[0]\n",
    "w= wcs.WCS(hdu.header)\n",
    "def ch2v(ch, w):  # km/s\n",
    "    x, y, v = w.wcs_pix2world(0, 0, ch, 0)\n",
    "    return v / 1000.0"
   ]
  },
  {
   "cell_type": "code",
   "execution_count": null,
   "metadata": {},
   "outputs": [],
   "source": [
    "residuals = fits.open(f'V_decomp//C18O//{species}_residuals.{chan_num}.cube.fits')[0]\n",
    "selected_residuals = residuals.data[:,309,313]"
   ]
  },
  {
   "cell_type": "code",
   "execution_count": null,
   "metadata": {},
   "outputs": [],
   "source": [
    "y_dec = 293\n",
    "x_ra = 252\n",
    "\n",
    "model_selected = model[x_ra,y_dec,:]\n",
    "\n",
    "sum_test = np.nansum(model_selected,axis=0)\n",
    "print(np.shape(sum_test))\n",
    "data_selected = hdu.data[:,x_ra,y_dec]\n",
    "print(np.shape(data_selected))\n",
    "\n",
    "channel_cont = np.arange(0,np.shape(data_selected)[0])\n",
    "velocity_cont = ch2v(channel_cont, w)"
   ]
  },
  {
   "cell_type": "code",
   "execution_count": null,
   "metadata": {},
   "outputs": [],
   "source": [
    "plt.figure()\n",
    "\n",
    "#for i in range(np.shape(model_selected)[0]):\n",
    "#    plt.plot(velocity_cont,model_selected[i],\":\")\n",
    "\n",
    "'''plt.plot(velocity_cont,model_selected[0],':',alpha=0.5)\n",
    "plt.plot(velocity_cont,model_selected[1],':',alpha=0.5)\n",
    "#plt.plot(selected_final_model,color='green')'''\n",
    "\n",
    "plt.plot(velocity_cont,data_selected,'b',alpha=0.7)\n",
    "plt.plot(velocity_cont,sum_test,'r',alpha=0.7)\n",
    "plt.plot(velocity_cont,sum_test-model_selected[0])\n",
    "plt.plot(velocity_cont,sum_test-model_selected[0]-model_selected[1])\n",
    "channel_max = np.nanargmax(data_selected)\n",
    "print(channel_max)\n",
    "print(velocity_cont[channel_max])\n",
    "channel_tol = 5\n",
    "velocity_current_cont = velocity_cont[channel_max - channel_tol : channel_max + channel_tol]\n",
    "selected_current_slice = data_selected[channel_max - channel_tol : channel_max + channel_tol]\n",
    "\n",
    "plt.plot(velocity_current_cont,selected_current_slice,\"r.\")\n",
    "plt.plot(velocity_cont,selected_residuals,'g')"
   ]
  },
  {
   "cell_type": "code",
   "execution_count": null,
   "metadata": {},
   "outputs": [],
   "source": [
    "plt.figure(figsize=(12,8))\n",
    "plt.subplot(131)\n",
    "l = plt.hist(l_comp.flatten(),color='red',bins=100)\n",
    "plt.subplot(132)\n",
    "d = plt.hist(d_comp.flatten(),color='blue',bins=100)\n",
    "\n",
    "\n",
    "plt.subplot(133)\n",
    "#_,bins,_ = plt.hist(l_comp.flatten(),bins=100,color='red',alpha=0.7,range=[np.nanmin(d_comp.flatten()),np.nanmax(d_comp.flatten())])\n",
    "plt.hist(l_comp.flatten(),bins=100,color='red',alpha=0.7)\n",
    "plt.hist(d_comp.flatten(),bins=100,color='blue',alpha=0.7)"
   ]
  },
  {
   "cell_type": "code",
   "execution_count": null,
   "metadata": {},
   "outputs": [],
   "source": [
    "plt.figure(figsize=(12,8))\n",
    "plt.subplot(131)\n",
    "l = plt.hist(l_comp_multi.flatten(),color='red',bins=100)\n",
    "plt.title(f\"Population: {np.sum(l[0]):.0f}\")\n",
    "plt.subplot(132)\n",
    "d = plt.hist(d_comp_multi.flatten(),color='blue',bins=100)\n",
    "plt.title(f\"Population: {np.sum(d[0]):.0f}\")\n",
    "\n",
    "\n",
    "plt.subplot(133)\n",
    "#_,bins,_ = plt.hist(l_comp_multi.flatten(),bins=100,color='red',alpha=0.7,range=[np.nanmin(d_comp_multi.flatten()),np.nanmax(d_comp_multi.flatten())])\n",
    "plt.hist(d_comp_multi.flatten(),bins=100,color='blue',alpha=0.7)\n",
    "plt.hist(l_comp_multi.flatten(),bins=100,color='red',alpha=0.7)\n",
    "\n",
    "plt.tight_layout()"
   ]
  },
  {
   "cell_type": "code",
   "execution_count": null,
   "metadata": {},
   "outputs": [],
   "source": [
    "plt.figure()\n",
    "plt.hist(single_fit_vel.flatten())\n",
    "print(np.nanmean(single_fit_vel.flatten()))\n",
    "print(np.nanmedian(single_fit_vel.flatten()))"
   ]
  },
  {
   "cell_type": "code",
   "execution_count": null,
   "metadata": {},
   "outputs": [],
   "source": [
    "plt.figure()\n",
    "l_vel_comp_subtracted = l_comp - np.nanmedian(single_fit_vel.flatten())\n",
    "\n",
    "l_vel_comp_sub_above = np.where(l_vel_comp_subtracted>=0,l_vel_comp_subtracted,np.nan)\n",
    "l_vel_comp_sub_below = np.where(l_vel_comp_subtracted<=0,l_vel_comp_subtracted,np.nan)\n",
    "plt.imshow(l_vel_comp_sub_below,origin='lower',cmap='Reds')\n",
    "plt.colorbar()\n",
    "plt.imshow(l_vel_comp_sub_above,origin='lower',cmap='Blues')\n",
    "plt.colorbar()\n",
    "plt.tight_layout()"
   ]
  },
  {
   "cell_type": "code",
   "execution_count": null,
   "metadata": {},
   "outputs": [],
   "source": [
    "plt.figure()\n",
    "d_vel_comp_subtracted = d_comp - np.nanmedian(single_fit_vel.flatten())\n",
    "\n",
    "d_vel_comp_sub_above = np.where(d_vel_comp_subtracted>=0,d_vel_comp_subtracted,np.nan)\n",
    "d_vel_comp_sub_below = np.where(d_vel_comp_subtracted<=0,d_vel_comp_subtracted,np.nan)\n",
    "plt.imshow(d_vel_comp_sub_below,origin='lower',cmap='Reds')\n",
    "plt.colorbar()\n",
    "plt.imshow(d_vel_comp_sub_above,origin='lower',cmap='Blues')\n",
    "plt.colorbar()\n",
    "plt.tight_layout()"
   ]
  }
 ],
 "metadata": {
  "language_info": {
   "name": "python"
  }
 },
 "nbformat": 4,
 "nbformat_minor": 2
}
