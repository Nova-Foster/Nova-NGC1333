{
 "cells": [
  {
   "cell_type": "code",
   "execution_count": 1,
   "metadata": {},
   "outputs": [],
   "source": [
    "import numpy as np\n",
    "from astropy.io import fits\n",
    "from astropy import units as u\n",
    "from spectral_cube import SpectralCube as sc\n",
    "from matplotlib import pyplot as plt\n",
    "from pathlib import Path\n",
    "from astropy.wcs import WCS\n",
    "\n",
    "from mpl_toolkits.axes_grid1 import make_axes_locatable\n",
    "import matplotlib.axes as maxes\n",
    "\n",
    "from astropy.visualization.wcsaxes import add_beam\n",
    "\n",
    "from astropy.table import Table\n",
    "\n",
    "import pyregion\n",
    "import pandas as pd\n",
    "from astropy.visualization.wcsaxes import add_scalebar\n",
    "from matplotlib.colors import rgb2hex, Normalize, LogNorm, PowerNorm\n",
    "from matplotlib.colorbar import ColorbarBase"
   ]
  },
  {
   "cell_type": "code",
   "execution_count": 11,
   "metadata": {},
   "outputs": [
    {
     "data": {
      "text/plain": [
       "\"font = 'Times New Roman'\\nplt.rcParams['font.size'] = 28\\nplt.rcParams['font.family'] = font\\nplt.rcParams['mathtext.fontset'] = 'custom'\\nplt.rcParams['mathtext.rm'] = font\\nplt.rcParams['mathtext.it'] = font + ':italic'\\nplt.rcParams['mathtext.bf'] = font + ':bold'\\nplt.rcParams['figure.facecolor'] = 'white'\\nplt.rcParams['xtick.direction'] = 'out'\\nplt.rcParams['ytick.direction'] = 'out\""
      ]
     },
     "execution_count": 11,
     "metadata": {},
     "output_type": "execute_result"
    }
   ],
   "source": [
    "'''font = 'Times New Roman'\n",
    "plt.rcParams['font.size'] = 28\n",
    "plt.rcParams['font.family'] = font\n",
    "plt.rcParams['mathtext.fontset'] = 'custom'\n",
    "plt.rcParams['mathtext.rm'] = font\n",
    "plt.rcParams['mathtext.it'] = font + ':italic'\n",
    "plt.rcParams['mathtext.bf'] = font + ':bold'\n",
    "plt.rcParams['figure.facecolor'] = 'white'\n",
    "plt.rcParams['xtick.direction'] = 'out'\n",
    "plt.rcParams['ytick.direction'] = 'out'''"
   ]
  },
  {
   "cell_type": "code",
   "execution_count": 17,
   "metadata": {},
   "outputs": [],
   "source": [
    "#hdu_12 = fits.open(\"C:\\\\Users\\\\alexf\\Japan internship\\\\NRO45_13CO_Tmb_0p33kms_21.5arcsec.vrad.fits.fits\")[0]\n",
    "hdu_13 = fits.open(\"C:\\\\Users\\\\alexf\\Japan internship\\\\NRO_13CO.vrad&restfreq.fits\")[0]\n",
    "#hdu_18 = fits.open(\"C:\\\\Users\\\\alexf\\Japan internship\\\\NRO_C18O.vrad&restfreq.fits\")[0]\n",
    "#print(hdu_18)\n",
    "'''\n",
    "hdu_12.header[\"BMAJ\"] = 14/3600\n",
    "hdu_12.header[\"BMIN\"] = 14/3600\n",
    "hdu_12.header[\"BPA\"] = 0\n",
    "cube_12 = sc.read(hdu_12)\n",
    "'''\n",
    "hdu_13.header[\"BMAJ\"] = 14/3600\n",
    "hdu_13.header[\"BMIN\"] = 14/3600\n",
    "hdu_13.header[\"BPA\"] = 0\n",
    "cube_13 = sc.read(hdu_13)\n",
    "'''\n",
    "hdu_18.header[\"BMAJ\"] = 14/3600\n",
    "hdu_18.header[\"BMIN\"] = 14/3600\n",
    "hdu_18.header[\"BPA\"] = 0\n",
    "cube_18 = sc.read(hdu_18)\n",
    "'''\n",
    "def scalebarlength(distance, pc):\n",
    "    angle = np.arctan((pc*u.pc)/(distance*2*u.pc))\n",
    "    return angle\n",
    "\n",
    "angle = scalebarlength(235, 1).to(u.deg).value"
   ]
  },
  {
   "cell_type": "code",
   "execution_count": 13,
   "metadata": {},
   "outputs": [
    {
     "data": {
      "text/plain": [
       "'# Select a smaller region of the cubes based on x and y bounds\\ncube_12 = cube_12.subcube(xlo=(52.3-0.52)*u.deg, xhi=(52.3+0.52)*u.deg, ylo=(31.5-1.45/2)*u.deg, yhi=(31.5+1.45/2)*u.deg)\\ncube_13 = cube_13.subcube(xlo=(52.3-0.52)*u.deg, xhi=(52.3+0.52)*u.deg, ylo=(31.5-1.45/2)*u.deg, yhi=(31.5+1.45/2)*u.deg)\\ncube_18 = cube_18.subcube(xlo=(52.3-0.52)*u.deg, xhi=(52.3+0.52)*u.deg, ylo=(31.5-1.45/2)*u.deg, yhi=(31.5+1.45/2)*u.deg)'"
      ]
     },
     "execution_count": 13,
     "metadata": {},
     "output_type": "execute_result"
    }
   ],
   "source": [
    "'''# Select a smaller region of the cubes based on x and y bounds\n",
    "cube_12 = cube_12.subcube(xlo=(52.3-0.52)*u.deg, xhi=(52.3+0.52)*u.deg, ylo=(31.5-1.45/2)*u.deg, yhi=(31.5+1.45/2)*u.deg)\n",
    "cube_13 = cube_13.subcube(xlo=(52.3-0.52)*u.deg, xhi=(52.3+0.52)*u.deg, ylo=(31.5-1.45/2)*u.deg, yhi=(31.5+1.45/2)*u.deg)\n",
    "cube_18 = cube_18.subcube(xlo=(52.3-0.52)*u.deg, xhi=(52.3+0.52)*u.deg, ylo=(31.5-1.45/2)*u.deg, yhi=(31.5+1.45/2)*u.deg)'''"
   ]
  },
  {
   "cell_type": "code",
   "execution_count": 15,
   "metadata": {},
   "outputs": [
    {
     "name": "stdout",
     "output_type": "stream",
     "text": [
      "['SIMPLE', 'BITPIX', 'NAXIS', 'NAXIS1', 'NAXIS2', 'NAXIS3', 'OBJECT', 'TELESCOP', 'INSTRUME', 'OBSERVER', 'DATE-MAP', 'BUNIT', 'EPOCH', 'OBSRA', 'OBSDEC', 'DATAMAX', 'DATAMIN', 'BLANK', 'BMAJ', 'BMIN', 'BPA', 'BEAM', 'WCSAXES', 'CRPIX1', 'CRPIX2', 'CRPIX3', 'CDELT1', 'CDELT2', 'CDELT3', 'CUNIT1', 'CUNIT2', 'CUNIT3', 'CTYPE1', 'CTYPE2', 'CTYPE3', 'CRVAL1', 'CRVAL2', 'CRVAL3', 'PV1_0', 'PV1_1', 'PV1_2', 'LONPOLE', 'LATPOLE', 'MJDREF', 'DATE-OBS', 'MJD-OBS', 'RADESYS', 'EQUINOX', 'SPECSYS']\n"
     ]
    }
   ],
   "source": [
    "print(list(cube_13.header.keys()))"
   ]
  },
  {
   "cell_type": "code",
   "execution_count": 16,
   "metadata": {},
   "outputs": [
    {
     "name": "stderr",
     "output_type": "stream",
     "text": [
      "WARNING: VerifyWarning: Invalid value for 'BLANK' keyword in header: -1.0 The 'BLANK' keyword must be an integer.  It will be ignored in the meantime. [astropy.io.fits.hdu.image]\n",
      "WARNING: VerifyWarning: Invalid 'BLANK' keyword in header.  The 'BLANK' keyword is only applicable to integer data, and will be ignored in this HDU. [astropy.io.fits.hdu.image]\n"
     ]
    }
   ],
   "source": [
    "header = fits.getheader(\"C:\\\\Users\\\\alexf\\Japan internship\\\\NRO45_13CO_Tmb_0p33kms_21.5arcsec.vrad.fits.fits\")\n",
    "data = fits.getdata(\"C:\\\\Users\\\\alexf\\Japan internship\\\\NRO45_13CO_Tmb_0p33kms_21.5arcsec.vrad.fits.fits\")\n",
    "\n",
    "header.set('RESTFRQ',value=220.398684E+9,comment='Rest frequency in Hz (added by Nova Foster)')\n",
    "header.set('CTYPE3',value='VRAD')\n",
    "fits.writeto('C:\\\\Users\\\\alexf\\Japan internship\\\\NRO_13CO.vrad&restfreq.fits',header=header,data=data,overwrite=True)"
   ]
  },
  {
   "cell_type": "code",
   "execution_count": 18,
   "metadata": {},
   "outputs": [
    {
     "name": "stdout",
     "output_type": "stream",
     "text": [
      "VRAD\n",
      "km s-1\n",
      "220398684000.0\n"
     ]
    }
   ],
   "source": [
    "#cube_12 = cube_12.with_spectral_unit(u.km/u.s, velocity_convention='radio')\n",
    "#cube_13 = cube_13.with_spectral_unit(u.km/u.s, velocity_convention='radio')\n",
    "cube_13 = cube_13.with_spectral_unit(u.km/u.s)\n",
    "print(cube_13.header['CTYPE3'])\n",
    "print(cube_13.header['CUNIT3'])\n",
    "print(cube_13.header['RESTFRQ'])"
   ]
  },
  {
   "cell_type": "code",
   "execution_count": 15,
   "metadata": {},
   "outputs": [],
   "source": [
    "# 13 CO data from Submillimter telescope\n",
    "tp_data_path = \"C:\\\\Users\\\\alexf\\Japan internship\\\\C18O\\\\ngc1333TP.C18O.cube.valueK.fits\"\n",
    "hdu_tp = fits.open(tp_data_path)[0]\n",
    "cube_tp = sc.read(hdu_tp)\n",
    "cube_tp = cube_tp.with_spectral_unit(u.km/u.s,velocity_convention='radio',rest_value=219560358000*u.Hz)"
   ]
  },
  {
   "cell_type": "code",
   "execution_count": 16,
   "metadata": {},
   "outputs": [
    {
     "data": {
      "text/plain": [
       "'hdu_nh3 = fits.open(data / Path(\"NH3/NGC1333_NH3_11_DR1_rebase3_trim.fits\"))[0]\\ncube_nh3 = sc.read(hdu_nh3)\\ncube_nh3 = cube_nh3.with_spectral_unit(u.km/u.s, velocity_convention=\"radio\")\\ncube_nh3.spectral_slab(3.1*u.km/u.s, 12.1*u.km/u.s)\\nmax_nh3 = cube_nh3.max(axis=0)\\nmom0_nh3 = cube_nh3.moment0()'"
      ]
     },
     "execution_count": 16,
     "metadata": {},
     "output_type": "execute_result"
    }
   ],
   "source": [
    "# Some random NH3 data?\n",
    "'''hdu_nh3 = fits.open(data / Path(\"NH3/NGC1333_NH3_11_DR1_rebase3_trim.fits\"))[0]\n",
    "cube_nh3 = sc.read(hdu_nh3)\n",
    "cube_nh3 = cube_nh3.with_spectral_unit(u.km/u.s, velocity_convention=\"radio\")\n",
    "cube_nh3.spectral_slab(3.1*u.km/u.s, 12.1*u.km/u.s)\n",
    "max_nh3 = cube_nh3.max(axis=0)\n",
    "mom0_nh3 = cube_nh3.moment0()'''"
   ]
  },
  {
   "cell_type": "code",
   "execution_count": 17,
   "metadata": {},
   "outputs": [],
   "source": [
    "obs_regiontp = pyregion.open(\"C:\\\\Users\\\\alexf\\Japan internship\\\\TP_13CO_region.REG\")"
   ]
  },
  {
   "cell_type": "code",
   "execution_count": null,
   "metadata": {},
   "outputs": [],
   "source": [
    "'''# Plotting out SMT data with path region based on Nobeyama observations\n",
    "mapnum=111\n",
    "vmin1, vmax1 = 1e21, 6e23\n",
    "vmin2, vmax2 = 0, 0.2\n",
    "max_dist = 15* u.pixel\n",
    "\n",
    "plt.rcParams[\"font.family\"] = \"Serif\"\n",
    "\n",
    "cmap = plt.cm.get_cmap(\"nipy_spectral\").copy()\n",
    "cmap.set_bad(\"gray\", 1.)\n",
    "\n",
    "w = WCS(mom0tp.hdu)\n",
    "fig = plt.figure(figsize=(20, 30))\n",
    "ax = fig.add_subplot(111, projection=w)\n",
    "\n",
    "\n",
    "im = ax.imshow(mom0tp.data, cmap=cmap, norm=PowerNorm(gamma=1,vmin=0))\n",
    "#ax.imshow(overlap, alpha=0.7, cmap=\"Purples_r\", zorder=100)\n",
    "\n",
    "divider = make_axes_locatable(ax)\n",
    "cax = divider.append_axes(\"right\", size=\"5%\", pad=0.2, axes_class=maxes.Axes)\n",
    "\n",
    "r = obs_regiontp.as_imagecoord(mom0tp.header)\n",
    "ax.add_patch(r.get_mpl_patches_texts()[0][0])\n",
    "\n",
    "ax.set_xlabel(\"R.A.\")\n",
    "ax.set_ylabel(\"DEC\")\n",
    "add_beam(ax, mom0tp.header)\n",
    "\n",
    "cb = fig.colorbar(im, cax=cax,orientation='vertical')\n",
    "cax.set_ylabel(\"K\")\n",
    "cax.xaxis.set_ticks_position(\"top\")\n",
    "cax.xaxis.set_label_position(\"top\")'''"
   ]
  },
  {
   "cell_type": "code",
   "execution_count": null,
   "metadata": {},
   "outputs": [],
   "source": [
    "'''mapnum=111\n",
    "vmin1, vmax1 = 1e21, 6e23\n",
    "vmin2, vmax2 = 0, 0.2\n",
    "max_dist = 15* u.pixel\n",
    "\n",
    "plt.rcParams[\"font.family\"] = \"Serif\"\n",
    "from matplotlib.colors import rgb2hex, Normalize, LogNorm, PowerNorm\n",
    "from matplotlib.colorbar import ColorbarBase\n",
    "\n",
    "cmap = plt.cm.get_cmap(\"nipy_spectral\").copy()\n",
    "cmap.set_bad(\"gray\", 1.)\n",
    "\n",
    "w = WCS(mom018.hdu)\n",
    "fig = plt.figure(figsize=(20, 30))\n",
    "ax = fig.add_subplot(111, projection=w)\n",
    "\n",
    "\n",
    "im = ax.imshow(mom018.data, cmap=cmap, norm=PowerNorm(gamma=1,vmin=0,vmax=8))\n",
    "#ax.imshow(overlap, alpha=0.7, cmap=\"Purples_r\", zorder=100)\n",
    "\n",
    "divider = make_axes_locatable(ax)\n",
    "cax = divider.append_axes(\"right\", size=\"5%\", pad=0.2, axes_class=maxes.Axes)\n",
    "\n",
    "r = obs_regiontp.as_imagecoord(mom018.header)\n",
    "ax.add_patch(r.get_mpl_patches_texts()[0][0])\n",
    "\n",
    "ax.set_xlabel(\"R.A.\")\n",
    "ax.set_ylabel(\"DEC\")\n",
    "add_beam(ax, mom018.header)\n",
    "\n",
    "cb = fig.colorbar(im, cax=cax,orientation='vertical')\n",
    "cax.set_ylabel(\"K\")\n",
    "cax.xaxis.set_ticks_position(\"top\")\n",
    "cax.xaxis.set_label_position(\"top\")'''"
   ]
  },
  {
   "cell_type": "code",
   "execution_count": 18,
   "metadata": {},
   "outputs": [],
   "source": [
    "# Creating some subcube based on x and y bounds then applying to both SMT and new obs\n",
    "from astropy.coordinates import Angle\n",
    "xlo = Angle(\"3h27m50s\").to_value(u.deg)\n",
    "xhi = Angle(\"3h31m0s\").to_value(u.deg)\n",
    "ylo = Angle(\"30d50m\").to_value(u.deg)\n",
    "yhi = Angle(\"31d50m\").to_value(u.deg)\n",
    "#subcube_13 = cube_13.subcube(xlo=xlo*u.deg, xhi=xhi*u.deg, ylo=ylo*u.deg, yhi=yhi*u.deg)\n",
    "#subcube_tp = cube_tp.subcube(xlo=xlo*u.deg, xhi=xhi*u.deg, ylo=ylo*u.deg, yhi=yhi*u.deg)\n",
    "\n",
    "subcube_tp = cube_tp\n",
    "subcube_18 = cube_18"
   ]
  },
  {
   "cell_type": "code",
   "execution_count": null,
   "metadata": {},
   "outputs": [],
   "source": [
    "#print(np.shape(subcube_18))"
   ]
  },
  {
   "cell_type": "code",
   "execution_count": 22,
   "metadata": {},
   "outputs": [
    {
     "name": "stdout",
     "output_type": "stream",
     "text": [
      "CPU times: total: 2.41 s\n",
      "Wall time: 4.06 s\n"
     ]
    }
   ],
   "source": [
    "# Creating integrated intensity maps from subcubes created above\n",
    "%time submom0tp = subcube_tp.moment0()\n",
    "#submom018 = subcube_18.moment0()\n"
   ]
  },
  {
   "cell_type": "code",
   "execution_count": null,
   "metadata": {},
   "outputs": [],
   "source": [
    "'''# Plotting SMT subcube\n",
    "mapnum=111\n",
    "vmin1, vmax1 = 1e21, 6e23\n",
    "vmin2, vmax2 = 0, 0.2\n",
    "max_dist = 15* u.pixel\n",
    "\n",
    "plt.rcParams[\"font.family\"] = \"Serif\"\n",
    "from matplotlib.colors import rgb2hex, Normalize, LogNorm, PowerNorm\n",
    "from matplotlib.colorbar import ColorbarBase\n",
    "\n",
    "cmap = plt.cm.get_cmap(\"nipy_spectral\").copy()\n",
    "cmap.set_bad(\"gray\", 1.)\n",
    "\n",
    "w = WCS(submom0tp.hdu)\n",
    "fig = plt.figure(figsize=(20, 30))\n",
    "ax = fig.add_subplot(111, projection=w)\n",
    "\n",
    "\n",
    "im = ax.imshow(submom0tp.data, cmap=cmap, norm=PowerNorm(gamma=1,vmin=0))\n",
    "#ax.imshow(overlap, alpha=0.7, cmap=\"Purples_r\", zorder=100)\n",
    "\n",
    "divider = make_axes_locatable(ax)\n",
    "cax = divider.append_axes(\"right\", size=\"5%\", pad=0.2, axes_class=maxes.Axes)\n",
    "\n",
    "r = obs_regiontp.as_imagecoord(submom0tp.header)\n",
    "ax.add_patch(r.get_mpl_patches_texts()[0][0])\n",
    "\n",
    "ax.set_xlabel(\"R.A.\")\n",
    "ax.set_ylabel(\"DEC\")\n",
    "add_beam(ax, mom0tp.header)\n",
    "\n",
    "cb = fig.colorbar(im, cax=cax,orientation='vertical')\n",
    "cax.set_ylabel(\"K\")\n",
    "cax.xaxis.set_ticks_position(\"top\")\n",
    "cax.xaxis.set_label_position(\"top\")'''"
   ]
  },
  {
   "cell_type": "code",
   "execution_count": null,
   "metadata": {},
   "outputs": [],
   "source": [
    "'''# Plotting new obs subcube\n",
    "mapnum=111\n",
    "vmin1, vmax1 = 1e21, 6e23\n",
    "vmin2, vmax2 = 0, 0.2\n",
    "max_dist = 15* u.pixel\n",
    "\n",
    "plt.rcParams[\"font.family\"] = \"Serif\"\n",
    "from matplotlib.colors import rgb2hex, Normalize, LogNorm, PowerNorm\n",
    "from matplotlib.colorbar import ColorbarBase\n",
    "\n",
    "cmap = plt.cm.get_cmap(\"nipy_spectral\").copy()\n",
    "cmap.set_bad(\"gray\", 1.)\n",
    "\n",
    "w = WCS(submom018.hdu)\n",
    "fig = plt.figure(figsize=(20, 30))\n",
    "ax = fig.add_subplot(111, projection=w)\n",
    "\n",
    "\n",
    "im = ax.imshow(submom018.data, cmap=cmap, norm=PowerNorm(gamma=1,vmin=0))\n",
    "#ax.imshow(overlap, alpha=0.7, cmap=\"Purples_r\", zorder=100)\n",
    "\n",
    "divider = make_axes_locatable(ax)\n",
    "cax = divider.append_axes(\"right\", size=\"5%\", pad=0.2, axes_class=maxes.Axes)\n",
    "\n",
    "r = obs_regiontp.as_imagecoord(submom018.header)\n",
    "ax.add_patch(r.get_mpl_patches_texts()[0][0])\n",
    "\n",
    "ax.set_xlabel(\"R.A.\")\n",
    "ax.set_ylabel(\"DEC\")\n",
    "add_beam(ax, submom018.header)\n",
    "\n",
    "cb = fig.colorbar(im, cax=cax,orientation='vertical')\n",
    "cax.set_ylabel(\"K\")\n",
    "cax.xaxis.set_ticks_position(\"top\")\n",
    "cax.xaxis.set_label_position(\"top\")'''"
   ]
  },
  {
   "cell_type": "code",
   "execution_count": null,
   "metadata": {},
   "outputs": [],
   "source": [
    "#subcube_tp.beam"
   ]
  },
  {
   "cell_type": "code",
   "execution_count": 23,
   "metadata": {},
   "outputs": [
    {
     "name": "stderr",
     "output_type": "stream",
     "text": [
      "WARNING: PossiblySlowWarning: This function (<function BaseSpectralCube.convolve_to at 0x0000027DE6F1CF70>) requires loading the entire cube into memory and may therefore be slow. [spectral_cube.utils]\n"
     ]
    }
   ],
   "source": [
    "# Convolving new obs to SMT beam\n",
    "%time subcube_18 = subcube_18.convolve_to(subcube_tp.beam)\n",
    "#subcube_18.beam"
   ]
  },
  {
   "cell_type": "code",
   "execution_count": 24,
   "metadata": {},
   "outputs": [
    {
     "name": "stdout",
     "output_type": "stream",
     "text": [
      "CPU times: total: 2.03 s\n",
      "Wall time: 3.85 s\n",
      "CPU times: total: 516 ms\n",
      "Wall time: 808 ms\n"
     ]
    }
   ],
   "source": [
    "# Creating new integrated intensity after convolving (and also SMT again?)\n",
    "%time submom0tp = subcube_tp.moment0()\n",
    "%time submom018 = subcube_18.moment0()"
   ]
  },
  {
   "cell_type": "code",
   "execution_count": null,
   "metadata": {},
   "outputs": [],
   "source": [
    "# Plotting convolved moment 0 map\n",
    "'''mapnum=111\n",
    "vmin1, vmax1 = 1e21, 6e23\n",
    "vmin2, vmax2 = 0, 0.2\n",
    "max_dist = 15* u.pixel\n",
    "\n",
    "plt.rcParams[\"font.family\"] = \"Serif\"\n",
    "from matplotlib.colors import rgb2hex, Normalize, LogNorm, PowerNorm\n",
    "from matplotlib.colorbar import ColorbarBase\n",
    "\n",
    "cmap = plt.cm.get_cmap(\"nipy_spectral\").copy()\n",
    "cmap.set_bad(\"gray\", 1.)\n",
    "\n",
    "w = WCS(submom018.hdu)\n",
    "fig = plt.figure(figsize=(20, 30))\n",
    "ax = fig.add_subplot(111, projection=w)\n",
    "\n",
    "\n",
    "im = ax.imshow(submom018.data, cmap=cmap, norm=PowerNorm(gamma=1,vmin=0))\n",
    "#ax.imshow(overlap, alpha=0.7, cmap=\"Purples_r\", zorder=100)\n",
    "\n",
    "divider = make_axes_locatable(ax)\n",
    "cax = divider.append_axes(\"right\", size=\"5%\", pad=0.2, axes_class=maxes.Axes)\n",
    "\n",
    "r = obs_regiontp.as_imagecoord(submom018.header)\n",
    "ax.add_patch(r.get_mpl_patches_texts()[0][0])\n",
    "\n",
    "ax.set_xlabel(\"R.A.\")\n",
    "ax.set_ylabel(\"DEC\")\n",
    "add_beam(ax, submom018.header)\n",
    "\n",
    "cb = fig.colorbar(im, cax=cax,orientation='vertical')\n",
    "cax.set_ylabel(\"K\")\n",
    "cax.xaxis.set_ticks_position(\"top\")\n",
    "cax.xaxis.set_label_position(\"top\")'''"
   ]
  },
  {
   "cell_type": "code",
   "execution_count": null,
   "metadata": {},
   "outputs": [],
   "source": [
    "'''# Plotting integrated intensity SMT data again (is this the same as before?)\n",
    "mapnum=111\n",
    "vmin1, vmax1 = 1e21, 6e23\n",
    "vmin2, vmax2 = 0, 0.2\n",
    "max_dist = 15* u.pixel\n",
    "\n",
    "plt.rcParams[\"font.family\"] = \"Serif\"\n",
    "from matplotlib.colors import rgb2hex, Normalize, LogNorm, PowerNorm\n",
    "from matplotlib.colorbar import ColorbarBase\n",
    "\n",
    "cmap = plt.cm.get_cmap(\"nipy_spectral\").copy()\n",
    "cmap.set_bad(\"gray\", 1.)\n",
    "\n",
    "w = WCS(submom0tp.hdu)\n",
    "fig = plt.figure(figsize=(20, 30))\n",
    "ax = fig.add_subplot(111, projection=w)\n",
    "\n",
    "\n",
    "im = ax.imshow(submom0tp.data, cmap=cmap, norm=PowerNorm(gamma=1,vmin=0))\n",
    "#ax.imshow(overlap, alpha=0.7, cmap=\"Purples_r\", zorder=100)\n",
    "\n",
    "divider = make_axes_locatable(ax)\n",
    "cax = divider.append_axes(\"right\", size=\"5%\", pad=0.2, axes_class=maxes.Axes)\n",
    "\n",
    "r = obs_regiontp.as_imagecoord(submom0tp.header)\n",
    "ax.add_patch(r.get_mpl_patches_texts()[0][0])\n",
    "\n",
    "ax.set_xlabel(\"R.A.\")\n",
    "ax.set_ylabel(\"DEC\")\n",
    "add_beam(ax, mom0tp.header)\n",
    "\n",
    "cb = fig.colorbar(im, cax=cax,orientation='vertical')\n",
    "cax.set_ylabel(\"K\")\n",
    "cax.xaxis.set_ticks_position(\"top\")\n",
    "cax.xaxis.set_label_position(\"top\")'''"
   ]
  },
  {
   "cell_type": "code",
   "execution_count": 25,
   "metadata": {},
   "outputs": [
    {
     "data": {
      "text/plain": [
       "(-7.499999999988, -2.99999999999988)"
      ]
     },
     "execution_count": 25,
     "metadata": {},
     "output_type": "execute_result"
    }
   ],
   "source": [
    "# Changing headers from arcseconds to degrees\n",
    "subcube_18.header[\"CDELT1\"]*3600, subcube_tp.header[\"CDELT1\"]*3600"
   ]
  },
  {
   "cell_type": "code",
   "execution_count": 26,
   "metadata": {},
   "outputs": [
    {
     "name": "stderr",
     "output_type": "stream",
     "text": [
      "WARNING: PossiblySlowWarning: This function (<function BaseSpectralCube.reproject at 0x0000027DE6F1C430>) requires loading the entire cube into memory and may therefore be slow. [spectral_cube.utils]\n"
     ]
    },
    {
     "ename": "MemoryError",
     "evalue": "Unable to allocate 1.83 GiB for an array with shape (246097600,) and data type float64",
     "output_type": "error",
     "traceback": [
      "\u001b[1;31m---------------------------------------------------------------------------\u001b[0m",
      "\u001b[1;31mMemoryError\u001b[0m                               Traceback (most recent call last)",
      "File \u001b[1;32m<timed exec>:1\u001b[0m, in \u001b[0;36m<module>\u001b[1;34m\u001b[0m\n",
      "File \u001b[1;32m~\\Anaconda3\\lib\\site-packages\\spectral_cube\\utils.py:49\u001b[0m, in \u001b[0;36mwarn_slow.<locals>.wrapper\u001b[1;34m(self, *args, **kwargs)\u001b[0m\n\u001b[0;32m     43\u001b[0m \u001b[38;5;28;01melif\u001b[39;00m warn_how \u001b[38;5;129;01mand\u001b[39;00m \u001b[38;5;129;01mnot\u001b[39;00m \u001b[38;5;28mself\u001b[39m\u001b[38;5;241m.\u001b[39m_is_huge:\n\u001b[0;32m     44\u001b[0m     \u001b[38;5;66;03m# TODO: add check for whether cube has been loaded into memory\u001b[39;00m\n\u001b[0;32m     45\u001b[0m     warnings\u001b[38;5;241m.\u001b[39mwarn(\u001b[38;5;124m\"\u001b[39m\u001b[38;5;124mThis function (\u001b[39m\u001b[38;5;132;01m{0}\u001b[39;00m\u001b[38;5;124m) requires loading the entire cube into \u001b[39m\u001b[38;5;124m\"\u001b[39m\n\u001b[0;32m     46\u001b[0m                   \u001b[38;5;124m\"\u001b[39m\u001b[38;5;124mmemory and may therefore be slow.\u001b[39m\u001b[38;5;124m\"\u001b[39m\u001b[38;5;241m.\u001b[39mformat(\u001b[38;5;28mstr\u001b[39m(function)),\n\u001b[0;32m     47\u001b[0m                   PossiblySlowWarning\n\u001b[0;32m     48\u001b[0m                  )\n\u001b[1;32m---> 49\u001b[0m \u001b[38;5;28;01mreturn\u001b[39;00m function(\u001b[38;5;28mself\u001b[39m, \u001b[38;5;241m*\u001b[39margs, \u001b[38;5;241m*\u001b[39m\u001b[38;5;241m*\u001b[39mkwargs)\n",
      "File \u001b[1;32m~\\Anaconda3\\lib\\site-packages\\spectral_cube\\spectral_cube.py:2697\u001b[0m, in \u001b[0;36mBaseSpectralCube.reproject\u001b[1;34m(self, header, order, use_memmap, filled, **kwargs)\u001b[0m\n\u001b[0;32m   2694\u001b[0m \u001b[38;5;28;01melse\u001b[39;00m:\n\u001b[0;32m   2695\u001b[0m     outarray \u001b[38;5;241m=\u001b[39m \u001b[38;5;28;01mNone\u001b[39;00m\n\u001b[1;32m-> 2697\u001b[0m newcube, newcube_valid \u001b[38;5;241m=\u001b[39m reproject_interp((data,\n\u001b[0;32m   2698\u001b[0m                                            \u001b[38;5;28mself\u001b[39m\u001b[38;5;241m.\u001b[39mheader),\n\u001b[0;32m   2699\u001b[0m                                           newwcs,\n\u001b[0;32m   2700\u001b[0m                                           output_array\u001b[38;5;241m=\u001b[39moutarray,\n\u001b[0;32m   2701\u001b[0m                                           shape_out\u001b[38;5;241m=\u001b[39mshape_out,\n\u001b[0;32m   2702\u001b[0m                                           order\u001b[38;5;241m=\u001b[39morder,\n\u001b[0;32m   2703\u001b[0m                                           \u001b[38;5;241m*\u001b[39m\u001b[38;5;241m*\u001b[39mreproj_kwargs)\n\u001b[0;32m   2704\u001b[0m \u001b[38;5;28;01mif\u001b[39;00m np\u001b[38;5;241m.\u001b[39mall(np\u001b[38;5;241m.\u001b[39misnan(newcube)):\n\u001b[0;32m   2705\u001b[0m     \u001b[38;5;28;01mraise\u001b[39;00m \u001b[38;5;167;01mValueError\u001b[39;00m(\u001b[38;5;124m\"\u001b[39m\u001b[38;5;124mAll values in reprojected cube are nan.  This can be caused\u001b[39m\u001b[38;5;124m\"\u001b[39m\n\u001b[0;32m   2706\u001b[0m                      \u001b[38;5;124m\"\u001b[39m\u001b[38;5;124m by an error in which coordinates do not \u001b[39m\u001b[38;5;124m'\u001b[39m\u001b[38;5;124mround-trip\u001b[39m\u001b[38;5;124m'\u001b[39m\u001b[38;5;124m.  Try \u001b[39m\u001b[38;5;124m\"\u001b[39m\n\u001b[0;32m   2707\u001b[0m                      \u001b[38;5;124m\"\u001b[39m\u001b[38;5;124msetting ``roundtrip_coords=False``.  You might also check \u001b[39m\u001b[38;5;124m\"\u001b[39m\n\u001b[0;32m   2708\u001b[0m                      \u001b[38;5;124m\"\u001b[39m\u001b[38;5;124mwhether the WCS transformation produces valid pixel->world \u001b[39m\u001b[38;5;124m\"\u001b[39m\n\u001b[0;32m   2709\u001b[0m                      \u001b[38;5;124m\"\u001b[39m\u001b[38;5;124mand world->pixel coordinates in each axis.\u001b[39m\u001b[38;5;124m\"\u001b[39m\n\u001b[0;32m   2710\u001b[0m                      )\n",
      "File \u001b[1;32m~\\Anaconda3\\lib\\site-packages\\reproject\\interpolation\\high_level.py:131\u001b[0m, in \u001b[0;36mreproject_interp\u001b[1;34m(input_data, output_projection, shape_out, hdu_in, order, roundtrip_coords, output_array, output_footprint, return_footprint, block_size, parallel, return_type)\u001b[0m\n\u001b[0;32m    127\u001b[0m     order \u001b[38;5;241m=\u001b[39m ORDER[order]\n\u001b[0;32m    129\u001b[0m \u001b[38;5;66;03m# TODO: add tests that actually ensure that order and roundtrip_coords work\u001b[39;00m\n\u001b[1;32m--> 131\u001b[0m \u001b[38;5;28;01mreturn\u001b[39;00m \u001b[43m_reproject_dispatcher\u001b[49m\u001b[43m(\u001b[49m\n\u001b[0;32m    132\u001b[0m \u001b[43m    \u001b[49m\u001b[43m_reproject_full\u001b[49m\u001b[43m,\u001b[49m\n\u001b[0;32m    133\u001b[0m \u001b[43m    \u001b[49m\u001b[43marray_in\u001b[49m\u001b[38;5;241;43m=\u001b[39;49m\u001b[43marray_in\u001b[49m\u001b[43m,\u001b[49m\n\u001b[0;32m    134\u001b[0m \u001b[43m    \u001b[49m\u001b[43mwcs_in\u001b[49m\u001b[38;5;241;43m=\u001b[39;49m\u001b[43mwcs_in\u001b[49m\u001b[43m,\u001b[49m\n\u001b[0;32m    135\u001b[0m \u001b[43m    \u001b[49m\u001b[43mwcs_out\u001b[49m\u001b[38;5;241;43m=\u001b[39;49m\u001b[43mwcs_out\u001b[49m\u001b[43m,\u001b[49m\n\u001b[0;32m    136\u001b[0m \u001b[43m    \u001b[49m\u001b[43mshape_out\u001b[49m\u001b[38;5;241;43m=\u001b[39;49m\u001b[43mshape_out\u001b[49m\u001b[43m,\u001b[49m\n\u001b[0;32m    137\u001b[0m \u001b[43m    \u001b[49m\u001b[43marray_out\u001b[49m\u001b[38;5;241;43m=\u001b[39;49m\u001b[43moutput_array\u001b[49m\u001b[43m,\u001b[49m\n\u001b[0;32m    138\u001b[0m \u001b[43m    \u001b[49m\u001b[43mparallel\u001b[49m\u001b[38;5;241;43m=\u001b[39;49m\u001b[43mparallel\u001b[49m\u001b[43m,\u001b[49m\n\u001b[0;32m    139\u001b[0m \u001b[43m    \u001b[49m\u001b[43mblock_size\u001b[49m\u001b[38;5;241;43m=\u001b[39;49m\u001b[43mblock_size\u001b[49m\u001b[43m,\u001b[49m\n\u001b[0;32m    140\u001b[0m \u001b[43m    \u001b[49m\u001b[43mreturn_footprint\u001b[49m\u001b[38;5;241;43m=\u001b[39;49m\u001b[43mreturn_footprint\u001b[49m\u001b[43m,\u001b[49m\n\u001b[0;32m    141\u001b[0m \u001b[43m    \u001b[49m\u001b[43moutput_footprint\u001b[49m\u001b[38;5;241;43m=\u001b[39;49m\u001b[43moutput_footprint\u001b[49m\u001b[43m,\u001b[49m\n\u001b[0;32m    142\u001b[0m \u001b[43m    \u001b[49m\u001b[43mreproject_func_kwargs\u001b[49m\u001b[38;5;241;43m=\u001b[39;49m\u001b[38;5;28;43mdict\u001b[39;49m\u001b[43m(\u001b[49m\n\u001b[0;32m    143\u001b[0m \u001b[43m        \u001b[49m\u001b[43morder\u001b[49m\u001b[38;5;241;43m=\u001b[39;49m\u001b[43morder\u001b[49m\u001b[43m,\u001b[49m\n\u001b[0;32m    144\u001b[0m \u001b[43m        \u001b[49m\u001b[43mroundtrip_coords\u001b[49m\u001b[38;5;241;43m=\u001b[39;49m\u001b[43mroundtrip_coords\u001b[49m\u001b[43m,\u001b[49m\n\u001b[0;32m    145\u001b[0m \u001b[43m    \u001b[49m\u001b[43m)\u001b[49m\u001b[43m,\u001b[49m\n\u001b[0;32m    146\u001b[0m \u001b[43m    \u001b[49m\u001b[43mreturn_type\u001b[49m\u001b[38;5;241;43m=\u001b[39;49m\u001b[43mreturn_type\u001b[49m\u001b[43m,\u001b[49m\n\u001b[0;32m    147\u001b[0m \u001b[43m\u001b[49m\u001b[43m)\u001b[49m\n",
      "File \u001b[1;32m~\\Anaconda3\\lib\\site-packages\\reproject\\common.py:142\u001b[0m, in \u001b[0;36m_reproject_dispatcher\u001b[1;34m(reproject_func, array_in, wcs_in, shape_out, wcs_out, block_size, array_out, return_footprint, output_footprint, parallel, reproject_func_kwargs, return_type)\u001b[0m\n\u001b[0;32m    139\u001b[0m     _, array_in \u001b[38;5;241m=\u001b[39m _dask_to_numpy_memmap(array_in, local_tmp_dir)\n\u001b[0;32m    141\u001b[0m \u001b[38;5;28;01mtry\u001b[39;00m:\n\u001b[1;32m--> 142\u001b[0m     \u001b[38;5;28;01mreturn\u001b[39;00m reproject_func(\n\u001b[0;32m    143\u001b[0m         array_in,\n\u001b[0;32m    144\u001b[0m         wcs_in,\n\u001b[0;32m    145\u001b[0m         wcs_out,\n\u001b[0;32m    146\u001b[0m         shape_out\u001b[38;5;241m=\u001b[39mshape_out,\n\u001b[0;32m    147\u001b[0m         array_out\u001b[38;5;241m=\u001b[39marray_out,\n\u001b[0;32m    148\u001b[0m         return_footprint\u001b[38;5;241m=\u001b[39mreturn_footprint,\n\u001b[0;32m    149\u001b[0m         output_footprint\u001b[38;5;241m=\u001b[39moutput_footprint,\n\u001b[0;32m    150\u001b[0m         \u001b[38;5;241m*\u001b[39m\u001b[38;5;241m*\u001b[39mreproject_func_kwargs,\n\u001b[0;32m    151\u001b[0m     )\n\u001b[0;32m    152\u001b[0m \u001b[38;5;28;01mfinally\u001b[39;00m:\n\u001b[0;32m    153\u001b[0m     \u001b[38;5;66;03m# Clean up reference to numpy memmap\u001b[39;00m\n\u001b[0;32m    154\u001b[0m     array_in \u001b[38;5;241m=\u001b[39m \u001b[38;5;28;01mNone\u001b[39;00m\n",
      "File \u001b[1;32m~\\Anaconda3\\lib\\site-packages\\reproject\\interpolation\\core.py:112\u001b[0m, in \u001b[0;36m_reproject_full\u001b[1;34m(array, wcs_in, wcs_out, shape_out, order, array_out, return_footprint, roundtrip_coords, output_footprint)\u001b[0m\n\u001b[0;32m    105\u001b[0m wcs_dims \u001b[38;5;241m=\u001b[39m shape_out[\u001b[38;5;241m-\u001b[39mwcs_in\u001b[38;5;241m.\u001b[39mlow_level_wcs\u001b[38;5;241m.\u001b[39mpixel_n_dim :]\n\u001b[0;32m    106\u001b[0m pixel_out \u001b[38;5;241m=\u001b[39m np\u001b[38;5;241m.\u001b[39mmeshgrid(\n\u001b[0;32m    107\u001b[0m     \u001b[38;5;241m*\u001b[39m[np\u001b[38;5;241m.\u001b[39marange(size, dtype\u001b[38;5;241m=\u001b[39m\u001b[38;5;28mfloat\u001b[39m) \u001b[38;5;28;01mfor\u001b[39;00m size \u001b[38;5;129;01min\u001b[39;00m wcs_dims],\n\u001b[0;32m    108\u001b[0m     indexing\u001b[38;5;241m=\u001b[39m\u001b[38;5;124m\"\u001b[39m\u001b[38;5;124mij\u001b[39m\u001b[38;5;124m\"\u001b[39m,\n\u001b[0;32m    109\u001b[0m     sparse\u001b[38;5;241m=\u001b[39m\u001b[38;5;28;01mFalse\u001b[39;00m,\n\u001b[0;32m    110\u001b[0m     copy\u001b[38;5;241m=\u001b[39m\u001b[38;5;28;01mFalse\u001b[39;00m,\n\u001b[0;32m    111\u001b[0m )\n\u001b[1;32m--> 112\u001b[0m pixel_out \u001b[38;5;241m=\u001b[39m [p\u001b[38;5;241m.\u001b[39mravel() \u001b[38;5;28;01mfor\u001b[39;00m p \u001b[38;5;129;01min\u001b[39;00m pixel_out]\n\u001b[0;32m    113\u001b[0m \u001b[38;5;66;03m# For each pixel in the ouput array, get the pixel value in the input WCS\u001b[39;00m\n\u001b[0;32m    114\u001b[0m \u001b[38;5;28;01mif\u001b[39;00m roundtrip_coords:\n",
      "File \u001b[1;32m~\\Anaconda3\\lib\\site-packages\\reproject\\interpolation\\core.py:112\u001b[0m, in \u001b[0;36m<listcomp>\u001b[1;34m(.0)\u001b[0m\n\u001b[0;32m    105\u001b[0m wcs_dims \u001b[38;5;241m=\u001b[39m shape_out[\u001b[38;5;241m-\u001b[39mwcs_in\u001b[38;5;241m.\u001b[39mlow_level_wcs\u001b[38;5;241m.\u001b[39mpixel_n_dim :]\n\u001b[0;32m    106\u001b[0m pixel_out \u001b[38;5;241m=\u001b[39m np\u001b[38;5;241m.\u001b[39mmeshgrid(\n\u001b[0;32m    107\u001b[0m     \u001b[38;5;241m*\u001b[39m[np\u001b[38;5;241m.\u001b[39marange(size, dtype\u001b[38;5;241m=\u001b[39m\u001b[38;5;28mfloat\u001b[39m) \u001b[38;5;28;01mfor\u001b[39;00m size \u001b[38;5;129;01min\u001b[39;00m wcs_dims],\n\u001b[0;32m    108\u001b[0m     indexing\u001b[38;5;241m=\u001b[39m\u001b[38;5;124m\"\u001b[39m\u001b[38;5;124mij\u001b[39m\u001b[38;5;124m\"\u001b[39m,\n\u001b[0;32m    109\u001b[0m     sparse\u001b[38;5;241m=\u001b[39m\u001b[38;5;28;01mFalse\u001b[39;00m,\n\u001b[0;32m    110\u001b[0m     copy\u001b[38;5;241m=\u001b[39m\u001b[38;5;28;01mFalse\u001b[39;00m,\n\u001b[0;32m    111\u001b[0m )\n\u001b[1;32m--> 112\u001b[0m pixel_out \u001b[38;5;241m=\u001b[39m [\u001b[43mp\u001b[49m\u001b[38;5;241;43m.\u001b[39;49m\u001b[43mravel\u001b[49m\u001b[43m(\u001b[49m\u001b[43m)\u001b[49m \u001b[38;5;28;01mfor\u001b[39;00m p \u001b[38;5;129;01min\u001b[39;00m pixel_out]\n\u001b[0;32m    113\u001b[0m \u001b[38;5;66;03m# For each pixel in the ouput array, get the pixel value in the input WCS\u001b[39;00m\n\u001b[0;32m    114\u001b[0m \u001b[38;5;28;01mif\u001b[39;00m roundtrip_coords:\n",
      "\u001b[1;31mMemoryError\u001b[0m: Unable to allocate 1.83 GiB for an array with shape (246097600,) and data type float64"
     ]
    }
   ],
   "source": [
    "# Reprojecting coordinates system of new obs to SMT header\n",
    "#submom018 = submom018.reproject(submom0tp.header)\n",
    "\n",
    "%time subcube_18 = subcube_18.reproject(subcube_tp.header)"
   ]
  },
  {
   "cell_type": "code",
   "execution_count": null,
   "metadata": {},
   "outputs": [],
   "source": [
    "# Plotting convolved and reprojected new obs. This would then be saved as a FITS\n",
    "mapnum=111\n",
    "vmin1, vmax1 = 1e21, 6e23\n",
    "vmin2, vmax2 = 0, 0.2\n",
    "max_dist = 15* u.pixel\n",
    "\n",
    "plt.rcParams[\"font.family\"] = \"Serif\"\n",
    "from matplotlib.colors import rgb2hex, Normalize, LogNorm, PowerNorm\n",
    "from matplotlib.colorbar import ColorbarBase\n",
    "\n",
    "cmap = plt.cm.get_cmap(\"nipy_spectral\").copy()\n",
    "cmap.set_bad(\"gray\", 1.)\n",
    "\n",
    "w = WCS(submom018.hdu)\n",
    "fig = plt.figure(figsize=(20, 30))\n",
    "ax = fig.add_subplot(111, projection=w)\n",
    "\n",
    "\n",
    "im = ax.imshow(submom018.data, cmap=cmap, norm=PowerNorm(gamma=1,vmin=0))\n",
    "#ax.imshow(overlap, alpha=0.7, cmap=\"Purples_r\", zorder=100)\n",
    "\n",
    "divider = make_axes_locatable(ax)\n",
    "cax = divider.append_axes(\"right\", size=\"5%\", pad=0.2, axes_class=maxes.Axes)\n",
    "\n",
    "r = obs_regiontp.as_imagecoord(submom018.header)\n",
    "ax.add_patch(r.get_mpl_patches_texts()[0][0])\n",
    "\n",
    "ax.set_xlabel(\"R.A.\")\n",
    "ax.set_ylabel(\"DEC\")\n",
    "add_beam(ax, submom018.header)\n",
    "\n",
    "cb = fig.colorbar(im, cax=cax,orientation='vertical')\n",
    "cax.set_ylabel(\"K\")\n",
    "cax.xaxis.set_ticks_position(\"top\")\n",
    "cax.xaxis.set_label_position(\"top\")"
   ]
  },
  {
   "cell_type": "code",
   "execution_count": 48,
   "metadata": {},
   "outputs": [
    {
     "data": {
      "image/png": "[encoded data removed]",
      "text/plain": [
       "<Figure size 1152x576 with 1 Axes>"
      ]
     },
     "metadata": {
      "needs_background": "light"
     },
     "output_type": "display_data"
    }
   ],
   "source": [
    "filepath = \"C:\\\\Users\\\\alexf\\\\Japan internship\\\\Spitzer\\\\Super_mosaic-MIPS_240-part1\\\\40020261.40020261-69.MIPS.1\"\n",
    "obs_regiontp = pyregion.open('C:\\\\Users\\\\alexf\\Japan internship\\\\TP_13CO_region.REG')\n",
    "current_cube = fits.open(f\"{filepath}.mosaic.fits\")\n",
    "w = WCS(current_cube[0].header)\n",
    "fig = plt.figure(figsize=(16, 8))\n",
    "ax = fig.add_subplot(111, projection=w)\n",
    "r = obs_regiontp.as_imagecoord(current_cube[0].header)\n",
    "ax.add_patch(r.get_mpl_patches_texts()[0][0])\n",
    "im = ax.imshow(current_cube[0].data)\n"
   ]
  },
  {
   "cell_type": "code",
   "execution_count": 49,
   "metadata": {},
   "outputs": [],
   "source": [
    "region_filter = r.get_filter()\n",
    "region_mask = (region_filter.mask(current_cube[0]))\n",
    "\n",
    "masked_data = region_mask * current_cube[0].data\n",
    "fits.writeto(filename=f'{filepath}.tpmasked.fits',header=current_cube[0].header,data=masked_data,overwrite=True)"
   ]
  },
  {
   "cell_type": "code",
   "execution_count": 16,
   "metadata": {},
   "outputs": [],
   "source": []
  },
  {
   "cell_type": "code",
   "execution_count": null,
   "metadata": {},
   "outputs": [],
   "source": []
  }
 ],
 "metadata": {
  "kernelspec": {
   "display_name": "Python 3 (ipykernel)",
   "language": "python",
   "name": "python3"
  },
  "language_info": {
   "codemirror_mode": {
    "name": "ipython",
    "version": 3
   },
   "file_extension": ".py",
   "mimetype": "text/x-python",
   "name": "python",
   "nbconvert_exporter": "python",
   "pygments_lexer": "ipython3",
   "version": "3.9.12"
  }
 },
 "nbformat": 4,
 "nbformat_minor": 2
}
